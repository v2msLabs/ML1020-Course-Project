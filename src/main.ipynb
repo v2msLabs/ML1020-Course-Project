{
 "cells": [
  {
   "cell_type": "markdown",
   "metadata": {},
   "source": [
    "# Urban Sound Multiclass Classifier\n",
    "### ML1020 - Machine Learning at Scale"
   ]
  },
  {
   "cell_type": "markdown",
   "metadata": {},
   "source": [
    "## Data Analysis\n",
    "\n",
    "Let's load the train data and explore available classes and sample distirubtion between the classes. note: the test data is not labled thus it is useless for the training purpose. We have no choice but employ the train dataset to train and validate the model."
   ]
  },
  {
   "cell_type": "markdown",
   "metadata": {},
   "source": [
    "### Sound Classes"
   ]
  },
  {
   "cell_type": "code",
   "execution_count": 94,
   "metadata": {},
   "outputs": [],
   "source": [
    "# improt required lbraries\n",
    "import pandas as pd\n",
    "import numpy as np\n",
    "import os\n",
    "import matplotlib\n",
    "import matplotlib.pyplot as plt\n",
    "import seaborn as sns\n",
    "import librosa\n",
    "import librosa.display\n",
    "import IPython.display\n",
    "import soundfile as sf\n",
    "import glob\n",
    "import random\n",
    "\n",
    "# define the path relative to the notebook source\n",
    "# expected data structure\n",
    "# -----------------------------------------------\n",
    "# project root\n",
    "# src\n",
    "#   main.ipynb\n",
    "# data\n",
    "#   original\n",
    "#     train\n",
    "#       samples\n",
    "#         *.wav\n",
    "#       train.csv\n",
    "#     test\n",
    "#       samples\n",
    "#         *.wav\n",
    "#       test.csv\n",
    "TRAIN_DATA_PATH = \"../data/original/train\"\n",
    "TRAIN_FILE = \"train.csv\"\n",
    "# Read the train data classification info \n",
    "classification = pd.read_csv(\"{0}/{1}\".format(TRAIN_DATA_PATH,TRAIN_FILE),sep = ',')"
   ]
  },
  {
   "cell_type": "code",
   "execution_count": 95,
   "metadata": {},
   "outputs": [
    {
     "data": {
      "text/html": [
       "<div>\n",
       "<style scoped>\n",
       "    .dataframe tbody tr th:only-of-type {\n",
       "        vertical-align: middle;\n",
       "    }\n",
       "\n",
       "    .dataframe tbody tr th {\n",
       "        vertical-align: top;\n",
       "    }\n",
       "\n",
       "    .dataframe thead th {\n",
       "        text-align: right;\n",
       "    }\n",
       "</style>\n",
       "<table border=\"1\" class=\"dataframe\">\n",
       "  <thead>\n",
       "    <tr style=\"text-align: right;\">\n",
       "      <th></th>\n",
       "      <th>ID</th>\n",
       "      <th>Class</th>\n",
       "    </tr>\n",
       "  </thead>\n",
       "  <tbody>\n",
       "    <tr>\n",
       "      <th>0</th>\n",
       "      <td>0</td>\n",
       "      <td>siren</td>\n",
       "    </tr>\n",
       "    <tr>\n",
       "      <th>1</th>\n",
       "      <td>1</td>\n",
       "      <td>street_music</td>\n",
       "    </tr>\n",
       "    <tr>\n",
       "      <th>2</th>\n",
       "      <td>2</td>\n",
       "      <td>drilling</td>\n",
       "    </tr>\n",
       "    <tr>\n",
       "      <th>3</th>\n",
       "      <td>3</td>\n",
       "      <td>siren</td>\n",
       "    </tr>\n",
       "    <tr>\n",
       "      <th>4</th>\n",
       "      <td>4</td>\n",
       "      <td>dog_bark</td>\n",
       "    </tr>\n",
       "    <tr>\n",
       "      <th>5</th>\n",
       "      <td>6</td>\n",
       "      <td>children_playing</td>\n",
       "    </tr>\n",
       "    <tr>\n",
       "      <th>6</th>\n",
       "      <td>10</td>\n",
       "      <td>street_music</td>\n",
       "    </tr>\n",
       "    <tr>\n",
       "      <th>7</th>\n",
       "      <td>11</td>\n",
       "      <td>drilling</td>\n",
       "    </tr>\n",
       "    <tr>\n",
       "      <th>8</th>\n",
       "      <td>12</td>\n",
       "      <td>gun_shot</td>\n",
       "    </tr>\n",
       "    <tr>\n",
       "      <th>9</th>\n",
       "      <td>15</td>\n",
       "      <td>dog_bark</td>\n",
       "    </tr>\n",
       "  </tbody>\n",
       "</table>\n",
       "</div>"
      ],
      "text/plain": [
       "   ID             Class\n",
       "0   0             siren\n",
       "1   1      street_music\n",
       "2   2          drilling\n",
       "3   3             siren\n",
       "4   4          dog_bark\n",
       "5   6  children_playing\n",
       "6  10      street_music\n",
       "7  11          drilling\n",
       "8  12          gun_shot\n",
       "9  15          dog_bark"
      ]
     },
     "execution_count": 95,
     "metadata": {},
     "output_type": "execute_result"
    }
   ],
   "source": [
    "classification.head(10)"
   ]
  },
  {
   "cell_type": "code",
   "execution_count": 96,
   "metadata": {
    "scrolled": true
   },
   "outputs": [
    {
     "name": "stdout",
     "output_type": "stream",
     "text": [
      "<class 'pandas.core.frame.DataFrame'>\n",
      "RangeIndex: 5435 entries, 0 to 5434\n",
      "Data columns (total 2 columns):\n",
      "ID       5435 non-null int64\n",
      "Class    5435 non-null object\n",
      "dtypes: int64(1), object(1)\n",
      "memory usage: 85.0+ KB\n"
     ]
    }
   ],
   "source": [
    "classification.info()"
   ]
  },
  {
   "cell_type": "markdown",
   "metadata": {},
   "source": [
    "Let's examine what classes are available"
   ]
  },
  {
   "cell_type": "code",
   "execution_count": 97,
   "metadata": {},
   "outputs": [
    {
     "data": {
      "text/plain": [
       "array(['siren', 'street_music', 'drilling', 'dog_bark',\n",
       "       'children_playing', 'gun_shot', 'engine_idling', 'air_conditioner',\n",
       "       'jackhammer', 'car_horn'], dtype=object)"
      ]
     },
     "execution_count": 97,
     "metadata": {},
     "output_type": "execute_result"
    }
   ],
   "source": [
    "classes = classification.Class.unique()\n",
    "classes"
   ]
  },
  {
   "cell_type": "code",
   "execution_count": 98,
   "metadata": {},
   "outputs": [
    {
     "name": "stdout",
     "output_type": "stream",
     "text": [
      "Number of classes: 10\n"
     ]
    }
   ],
   "source": [
    "print(\"Number of classes: {0}\".format(len(classes)))"
   ]
  },
  {
   "cell_type": "markdown",
   "metadata": {},
   "source": [
    "As per the output above the dataset comprises ten urban sound classes. It is time to take a look at the class population."
   ]
  },
  {
   "cell_type": "code",
   "execution_count": 99,
   "metadata": {},
   "outputs": [
    {
     "data": {
      "image/png": "[encoded data removed]",
      "text/plain": [
       "<Figure size 936x720 with 1 Axes>"
      ]
     },
     "metadata": {
      "needs_background": "light"
     },
     "output_type": "display_data"
    }
   ],
   "source": [
    "classDistribution = classification.groupby(['Class']).count().reset_index().rename(columns={'ID':'Count'})\n",
    "plt.figure(figsize=(13,10))\n",
    "p = sns.countplot(data=data,y='Class')\n"
   ]
  },
  {
   "cell_type": "markdown",
   "metadata": {},
   "source": [
    "`Gun Shot` and `Car Horn` categories are underpopulated. We could: \n",
    "\n",
    "* digitize and upsample these categories\n",
    "* downsample all categories\n",
    "* add more labeled observations to the smaller categories\n",
    "* leave as is hoping that the categories with the smaller population stil have enough to train the network\n",
    "\n",
    "Let's leave the data intact. If during the training we realize that the scarsly popluated categories are not detected well we will take action"
   ]
  },
  {
   "cell_type": "markdown",
   "metadata": {},
   "source": [
    "### Basic Data Stats\n",
    "\n",
    "Let's explore the sound smaples in depth. Knowning the sample duration ,sample, rate, number of channels, ec. will help us to understnad what the data normalization and prepration must be done prior to feeding the data to a model. We start with the extraction of sound characteristics of each sample...  "
   ]
  },
  {
   "cell_type": "code",
   "execution_count": 112,
   "metadata": {},
   "outputs": [
    {
     "data": {
      "text/html": [
       "<div>\n",
       "<style scoped>\n",
       "    .dataframe tbody tr th:only-of-type {\n",
       "        vertical-align: middle;\n",
       "    }\n",
       "\n",
       "    .dataframe tbody tr th {\n",
       "        vertical-align: top;\n",
       "    }\n",
       "\n",
       "    .dataframe thead th {\n",
       "        text-align: right;\n",
       "    }\n",
       "</style>\n",
       "<table border=\"1\" class=\"dataframe\">\n",
       "  <thead>\n",
       "    <tr style=\"text-align: right;\">\n",
       "      <th></th>\n",
       "      <th>Channels</th>\n",
       "      <th>Format</th>\n",
       "      <th>Frames</th>\n",
       "      <th>Path</th>\n",
       "      <th>SampleRate</th>\n",
       "      <th>SubType</th>\n",
       "    </tr>\n",
       "  </thead>\n",
       "  <tbody>\n",
       "    <tr>\n",
       "      <th>0</th>\n",
       "      <td>2</td>\n",
       "      <td>WAV</td>\n",
       "      <td>176400</td>\n",
       "      <td>../data/original/train/samples\\0.wav</td>\n",
       "      <td>44100</td>\n",
       "      <td>PCM_16</td>\n",
       "    </tr>\n",
       "    <tr>\n",
       "      <th>1</th>\n",
       "      <td>1</td>\n",
       "      <td>WAV</td>\n",
       "      <td>192000</td>\n",
       "      <td>../data/original/train/samples\\1.wav</td>\n",
       "      <td>48000</td>\n",
       "      <td>PCM_16</td>\n",
       "    </tr>\n",
       "    <tr>\n",
       "      <th>2</th>\n",
       "      <td>2</td>\n",
       "      <td>WAV</td>\n",
       "      <td>176400</td>\n",
       "      <td>../data/original/train/samples\\10.wav</td>\n",
       "      <td>44100</td>\n",
       "      <td>PCM_16</td>\n",
       "    </tr>\n",
       "    <tr>\n",
       "      <th>3</th>\n",
       "      <td>2</td>\n",
       "      <td>WAV</td>\n",
       "      <td>176400</td>\n",
       "      <td>../data/original/train/samples\\100.wav</td>\n",
       "      <td>44100</td>\n",
       "      <td>PCM_16</td>\n",
       "    </tr>\n",
       "    <tr>\n",
       "      <th>4</th>\n",
       "      <td>2</td>\n",
       "      <td>WAV</td>\n",
       "      <td>176400</td>\n",
       "      <td>../data/original/train/samples\\1000.wav</td>\n",
       "      <td>44100</td>\n",
       "      <td>PCM_16</td>\n",
       "    </tr>\n",
       "  </tbody>\n",
       "</table>\n",
       "</div>"
      ],
      "text/plain": [
       "   Channels Format  Frames                                     Path  \\\n",
       "0         2    WAV  176400     ../data/original/train/samples\\0.wav   \n",
       "1         1    WAV  192000     ../data/original/train/samples\\1.wav   \n",
       "2         2    WAV  176400    ../data/original/train/samples\\10.wav   \n",
       "3         2    WAV  176400   ../data/original/train/samples\\100.wav   \n",
       "4         2    WAV  176400  ../data/original/train/samples\\1000.wav   \n",
       "\n",
       "   SampleRate SubType  \n",
       "0       44100  PCM_16  \n",
       "1       48000  PCM_16  \n",
       "2       44100  PCM_16  \n",
       "3       44100  PCM_16  \n",
       "4       44100  PCM_16  "
      ]
     },
     "execution_count": 112,
     "metadata": {},
     "output_type": "execute_result"
    }
   ],
   "source": [
    "# take file nmes of all files\n",
    "paths = glob.glob(\"{0}/samples/*\".format(TRAIN_DATA_PATH))\n",
    "# parse the sound file metad data. It takes a few second\n",
    "tmp = [sf.SoundFile(path) for path in paths]\n",
    "# attributes of interest\n",
    "attributes = ['name', 'channels','samplerate','frames','format','subtype']\n",
    "df = pd.DataFrame( [{fn: getattr(f, fn) for fn in attributes} for f in tmp])\n",
    "#df.columns=['Path','Channels','SampleRate','Frames','Format','SubType']\n",
    "df.rename(columns={'name':'Path', 'channels':'Channels','samplerate':'SampleRate','frames':'Frames','format':'Format',\n",
    "    'subtype':'SubType'}, inplace=True)\n",
    "df.head()"
   ]
  },
  {
   "cell_type": "markdown",
   "metadata": {},
   "source": [
    "Next we merge classification dataframe with the dataframe that contains the sound metrics."
   ]
  },
  {
   "cell_type": "code",
   "execution_count": 113,
   "metadata": {},
   "outputs": [],
   "source": [
    "df= pd.concat([classification,df], axis=1)"
   ]
  },
  {
   "cell_type": "code",
   "execution_count": 114,
   "metadata": {},
   "outputs": [
    {
     "data": {
      "text/html": [
       "<div>\n",
       "<style scoped>\n",
       "    .dataframe tbody tr th:only-of-type {\n",
       "        vertical-align: middle;\n",
       "    }\n",
       "\n",
       "    .dataframe tbody tr th {\n",
       "        vertical-align: top;\n",
       "    }\n",
       "\n",
       "    .dataframe thead th {\n",
       "        text-align: right;\n",
       "    }\n",
       "</style>\n",
       "<table border=\"1\" class=\"dataframe\">\n",
       "  <thead>\n",
       "    <tr style=\"text-align: right;\">\n",
       "      <th></th>\n",
       "      <th>ID</th>\n",
       "      <th>Class</th>\n",
       "      <th>Channels</th>\n",
       "      <th>Format</th>\n",
       "      <th>Frames</th>\n",
       "      <th>Path</th>\n",
       "      <th>SampleRate</th>\n",
       "      <th>SubType</th>\n",
       "    </tr>\n",
       "  </thead>\n",
       "  <tbody>\n",
       "    <tr>\n",
       "      <th>0</th>\n",
       "      <td>0</td>\n",
       "      <td>siren</td>\n",
       "      <td>2</td>\n",
       "      <td>WAV</td>\n",
       "      <td>176400</td>\n",
       "      <td>../data/original/train/samples\\0.wav</td>\n",
       "      <td>44100</td>\n",
       "      <td>PCM_16</td>\n",
       "    </tr>\n",
       "    <tr>\n",
       "      <th>1</th>\n",
       "      <td>1</td>\n",
       "      <td>street_music</td>\n",
       "      <td>1</td>\n",
       "      <td>WAV</td>\n",
       "      <td>192000</td>\n",
       "      <td>../data/original/train/samples\\1.wav</td>\n",
       "      <td>48000</td>\n",
       "      <td>PCM_16</td>\n",
       "    </tr>\n",
       "    <tr>\n",
       "      <th>2</th>\n",
       "      <td>2</td>\n",
       "      <td>drilling</td>\n",
       "      <td>2</td>\n",
       "      <td>WAV</td>\n",
       "      <td>176400</td>\n",
       "      <td>../data/original/train/samples\\10.wav</td>\n",
       "      <td>44100</td>\n",
       "      <td>PCM_16</td>\n",
       "    </tr>\n",
       "    <tr>\n",
       "      <th>3</th>\n",
       "      <td>3</td>\n",
       "      <td>siren</td>\n",
       "      <td>2</td>\n",
       "      <td>WAV</td>\n",
       "      <td>176400</td>\n",
       "      <td>../data/original/train/samples\\100.wav</td>\n",
       "      <td>44100</td>\n",
       "      <td>PCM_16</td>\n",
       "    </tr>\n",
       "    <tr>\n",
       "      <th>4</th>\n",
       "      <td>4</td>\n",
       "      <td>dog_bark</td>\n",
       "      <td>2</td>\n",
       "      <td>WAV</td>\n",
       "      <td>176400</td>\n",
       "      <td>../data/original/train/samples\\1000.wav</td>\n",
       "      <td>44100</td>\n",
       "      <td>PCM_16</td>\n",
       "    </tr>\n",
       "  </tbody>\n",
       "</table>\n",
       "</div>"
      ],
      "text/plain": [
       "   ID         Class  Channels Format  Frames  \\\n",
       "0   0         siren         2    WAV  176400   \n",
       "1   1  street_music         1    WAV  192000   \n",
       "2   2      drilling         2    WAV  176400   \n",
       "3   3         siren         2    WAV  176400   \n",
       "4   4      dog_bark         2    WAV  176400   \n",
       "\n",
       "                                      Path  SampleRate SubType  \n",
       "0     ../data/original/train/samples\\0.wav       44100  PCM_16  \n",
       "1     ../data/original/train/samples\\1.wav       48000  PCM_16  \n",
       "2    ../data/original/train/samples\\10.wav       44100  PCM_16  \n",
       "3   ../data/original/train/samples\\100.wav       44100  PCM_16  \n",
       "4  ../data/original/train/samples\\1000.wav       44100  PCM_16  "
      ]
     },
     "execution_count": 114,
     "metadata": {},
     "output_type": "execute_result"
    }
   ],
   "source": [
    "df.head()"
   ]
  },
  {
   "cell_type": "markdown",
   "metadata": {},
   "source": [
    "#### Sample Rate Distirbution"
   ]
  },
  {
   "cell_type": "code",
   "execution_count": 116,
   "metadata": {},
   "outputs": [
    {
     "data": {
      "image/png": "[encoded data removed]",
      "text/plain": [
       "<Figure size 936x720 with 1 Axes>"
      ]
     },
     "metadata": {
      "needs_background": "light"
     },
     "output_type": "display_data"
    }
   ],
   "source": [
    "plt.figure(figsize=(13,10))\n",
    "sns.distplot(df.SampleRate);"
   ]
  },
  {
   "cell_type": "markdown",
   "metadata": {},
   "source": [
    "Evidently the sample rate of the sound files varies. We would have to resample the original data to bring it to the same standard. Let's caclulate the length of the sounds"
   ]
  },
  {
   "cell_type": "code",
   "execution_count": 119,
   "metadata": {},
   "outputs": [
    {
     "data": {
      "image/png": "[encoded data removed]",
      "text/plain": [
       "<Figure size 936x720 with 1 Axes>"
      ]
     },
     "metadata": {
      "needs_background": "light"
     },
     "output_type": "display_data"
    }
   ],
   "source": [
    "plt.figure(figsize=(13,10))\n",
    "sns.countplot(y=round(df.Frames/df.SampleRate,1), log=True);"
   ]
  },
  {
   "cell_type": "markdown",
   "metadata": {},
   "source": [
    "Majority of the sound files are 4 second long. But there are some file that are less than s second long. Design the network we would have to make sure that the input layer is able to deal with the sound samples of various length and a sample rate. Lastly we are going to verify if all the samples were recorded in stereo."
   ]
  },
  {
   "cell_type": "markdown",
   "metadata": {},
   "source": [
    "\n",
    "#### Sound Characteristics of Each Category \n",
    "\n",
    "There are ten sound classess. Let's taka a sample from each class and review its characteristics. WORK in progress!!"
   ]
  },
  {
   "cell_type": "code",
   "execution_count": null,
   "metadata": {},
   "outputs": [],
   "source": [
    "p = \"{0}/samples/66.wav\".format(TRAIN_DATA_PATH)\n",
    "siren, r = sf.read(p)\n",
    "sfl = sf.SoundFile(p)\n",
    "#street_music\n",
    "#drilling\n",
    "#dog_bark\n",
    "#children_playing\n",
    "#gun_shot\n",
    "#engine_idling\n",
    "#air_conditioner\n",
    "#jackhammer\n",
    "#car_horn"
   ]
  },
  {
   "cell_type": "code",
   "execution_count": 63,
   "metadata": {},
   "outputs": [
    {
     "name": "stdout",
     "output_type": "stream",
     "text": [
      "Sound File: ../data/original/train/samples/66.wav, Channels: 2 Format: WAVEX Rate: 96000 Frames: 384000 Length: 1.0\n"
     ]
    }
   ],
   "source": [
    "print(\"Sound File: {0}, Channels: {1} Format: {2} Rate: {3} Frames: {4} Length: {5}\".format(sfl.name,\n",
    "sfl.channels,sfl.format,sfl.samplerate, sfl.frames,round(sfl.samplerate/sfl.samplerate,2)  ))"
   ]
  },
  {
   "cell_type": "code",
   "execution_count": null,
   "metadata": {},
   "outputs": [],
   "source": [
    "plt.figure(figsize=(13,10))\n",
    "p=librosa.display.waveplot(siren,sr=r)"
   ]
  },
  {
   "cell_type": "code",
   "execution_count": null,
   "metadata": {},
   "outputs": [],
   "source": [
    "from scipy.io import wavfile\n",
    "rate, data = wavfile.read(p)"
   ]
  },
  {
   "cell_type": "code",
   "execution_count": null,
   "metadata": {},
   "outputs": [],
   "source": [
    "IPython.display.Audio(data=siren,rate=r)"
   ]
  },
  {
   "cell_type": "code",
   "execution_count": null,
   "metadata": {},
   "outputs": [],
   "source": [
    "#sr=44100, to_mono=True)\n",
    "x, sr = librosa.load(p, sr=r)"
   ]
  },
  {
   "cell_type": "code",
   "execution_count": null,
   "metadata": {},
   "outputs": [],
   "source": [
    "librosa.display.waveplot(x, sr=sr)"
   ]
  },
  {
   "cell_type": "code",
   "execution_count": null,
   "metadata": {},
   "outputs": [],
   "source": [
    "x.shape\n",
    "\n"
   ]
  },
  {
   "cell_type": "code",
   "execution_count": null,
   "metadata": {},
   "outputs": [],
   "source": []
  },
  {
   "cell_type": "code",
   "execution_count": null,
   "metadata": {},
   "outputs": [],
   "source": []
  }
 ],
 "metadata": {
  "kernelspec": {
   "display_name": "Python 3",
   "language": "python",
   "name": "python3"
  },
  "language_info": {
   "codemirror_mode": {
    "name": "ipython",
    "version": 3
   },
   "file_extension": ".py",
   "mimetype": "text/x-python",
   "name": "python",
   "nbconvert_exporter": "python",
   "pygments_lexer": "ipython3",
   "version": "3.6.7"
  }
 },
 "nbformat": 4,
 "nbformat_minor": 2
}
